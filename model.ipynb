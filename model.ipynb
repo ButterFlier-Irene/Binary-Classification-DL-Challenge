{
 "cells": [
  {
   "cell_type": "code",
   "execution_count": 1,
   "metadata": {},
   "outputs": [],
   "source": [
    "import torch\n",
    "from torch import nn\n",
    "import os\n"
   ]
  },
  {
   "cell_type": "code",
   "execution_count": 3,
   "metadata": {},
   "outputs": [],
   "source": [
    "root = '/dl2425_challenge_dataset'\n",
    "train = os.path.join(root, 'train')\n",
    "val = os.path.join(root, 'val')\n",
    "\n",
    "train_fire = os.path.join(train, '1')\n",
    "train_nofire = os.path.join(train, '0')\n",
    "\n",
    "val_fire = os.path.join(val, '1')\n",
    "val_nofire = os.path.join(val, '0')"
   ]
  },
  {
   "cell_type": "code",
   "execution_count": 4,
   "metadata": {},
   "outputs": [],
   "source": [
    "class OurGoogLenet(nn.Module):\n",
    "    def __init__(self, *args, **kwargs):\n",
    "        super().__init__(*args, **kwargs)\n",
    "        self.net = nn.Sequential(\n",
    "            \n",
    "        )\n",
    "    def forward():\n",
    "        return"
   ]
  },
  {
   "cell_type": "code",
   "execution_count": 5,
   "metadata": {},
   "outputs": [],
   "source": [
    "epochs = 2\n",
    "batch_size =16\n",
    "learning_rate = 0.001\n"
   ]
  }
 ],
 "metadata": {
  "kernelspec": {
   "display_name": "base",
   "language": "python",
   "name": "python3"
  },
  "language_info": {
   "codemirror_mode": {
    "name": "ipython",
    "version": 3
   },
   "file_extension": ".py",
   "mimetype": "text/x-python",
   "name": "python",
   "nbconvert_exporter": "python",
   "pygments_lexer": "ipython3",
   "version": "3.9.13"
  }
 },
 "nbformat": 4,
 "nbformat_minor": 2
}
